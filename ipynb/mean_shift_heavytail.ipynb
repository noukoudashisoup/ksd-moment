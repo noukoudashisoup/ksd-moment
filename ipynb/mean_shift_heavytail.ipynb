{
 "cells": [
  {
   "cell_type": "markdown",
   "id": "37e1ba62",
   "metadata": {},
   "source": [
    "## Experiment for mean non-convergence problem with Student's T target"
   ]
  },
  {
   "cell_type": "code",
   "execution_count": 56,
   "id": "c30662de",
   "metadata": {},
   "outputs": [
    {
     "name": "stdout",
     "output_type": "stream",
     "text": [
      "The autoreload extension is already loaded. To reload it, use:\n",
      "  %reload_ext autoreload\n"
     ]
    }
   ],
   "source": [
    "%load_ext autoreload\n",
    "%autoreload 2\n",
    "# %matplotlib inline"
   ]
  },
  {
   "cell_type": "code",
   "execution_count": 57,
   "id": "f44bda3e",
   "metadata": {},
   "outputs": [],
   "source": [
    "import torch\n",
    "import math\n",
    "import torch.distributions as dists\n",
    "from scem import loss, util, kernel, net, stein, cpdkernel\n",
    "import matplotlib\n",
    "import matplotlib.pyplot as plt\n",
    "import numpy as np\n",
    "import os\n",
    "from os.path import dirname, join\n",
    "import ksdmom.sampler as samp\n",
    "from collections import namedtuple"
   ]
  },
  {
   "cell_type": "code",
   "execution_count": 58,
   "id": "096ea881",
   "metadata": {},
   "outputs": [],
   "source": [
    "seed = 101\n",
    "torch.manual_seed(seed)\n",
    "torch.set_default_tensor_type(torch.DoubleTensor)"
   ]
  },
  {
   "cell_type": "code",
   "execution_count": 59,
   "id": "7bf753e8",
   "metadata": {},
   "outputs": [],
   "source": [
    "results_path = './results/meanshift'\n",
    "problem = 'StudentT'"
   ]
  },
  {
   "cell_type": "code",
   "execution_count": 60,
   "id": "7b5b330f",
   "metadata": {},
   "outputs": [],
   "source": [
    "dir_path = (join(results_path, problem))\n",
    "if not os.path.exists(dir_path):\n",
    "    os.makedirs(dir_path)"
   ]
  },
  {
   "cell_type": "code",
   "execution_count": 61,
   "id": "66248b70",
   "metadata": {},
   "outputs": [],
   "source": [
    "font = {\n",
    "    'family' : 'serif',\n",
    "#     'weight' : 'bold',\n",
    "    'size'   : 24\n",
    "}\n",
    "# matplotlib.rc('font', **{'family': 'serif', 'serif': ['Computer Modern']})\n",
    "\n",
    "matplotlib.rc('text', usetex=True)\n",
    "matplotlib.rcParams['text.usetex'] = True\n",
    "plt.rc('font', **font)\n",
    "plt.rc('lines', linewidth=3, markersize=10)\n",
    "matplotlib.rcParams['pdf.fonttype'] = 42\n",
    "matplotlib.rcParams['ps.fonttype'] = 42\n"
   ]
  },
  {
   "cell_type": "code",
   "execution_count": 62,
   "id": "0a7a29da",
   "metadata": {},
   "outputs": [],
   "source": [
    "# n = 1000\n",
    "rep = 1\n",
    "n_ps = 100\n",
    "d = 5\n",
    "m = torch.zeros(d)\n",
    "df = 6\n",
    "target = samp.IsotropicMultivariateStudentT(df, mean=m)"
   ]
  },
  {
   "cell_type": "markdown",
   "id": "8ab3f1b3",
   "metadata": {},
   "source": [
    "### Defining kernels"
   ]
  },
  {
   "cell_type": "code",
   "execution_count": 63,
   "id": "6c44530c",
   "metadata": {},
   "outputs": [],
   "source": [
    "kimq  = kernel.KIMQ(b=-0.5)\n",
    "loc = None\n",
    "klin = kernel.KLinear(scale=1, loc=loc, bias=1)\n",
    "ksum_imq = kernel.KSTSumKernel([klin, kimq])\n",
    "q = 1\n",
    "w_ = kernel.MultiquadraticWeight(p=(q-2)/2+1, bias=1, loc=loc, scale=1./df**0.5)\n",
    "kw_ = kernel.KSTWeight(w_func=w_)\n",
    "k_lin_grwth = kernel.KSTProduct(ksum_imq, kw_)\n",
    "\n",
    "# w_ = kernel.MultiquadraticWeight(p=(2+1+0.1)/2, bias=1, loc=loc, scale=1./df**0.5)\n",
    "# kw_ = kernel.KSTWeight(w_func=w_)\n",
    "# k_quad_grwth = kernel.KSTProduct(ksum_imq, kw_)\n",
    "\n",
    "\n",
    "kernels = {\n",
    "    'IMQ': kimq, \n",
    "    'IMQ-sum-lin': k_lin_grwth,\n",
    "    # 'IMQ-sum-quad': k_quad_grwth,\n",
    "}\n"
   ]
  },
  {
   "cell_type": "code",
   "execution_count": 70,
   "id": "19e02afe",
   "metadata": {},
   "outputs": [],
   "source": [
    "Format = namedtuple('Format', ['color', 'linestyle', 'marker'])\n",
    "label_format_tuples = {\n",
    "    'IMQ': (\"LKSD \", Format('C1', '-', '*')),\n",
    "    'IMQ-sum-lin': ('DKSD', Format('C3', '--', 'o')),\n",
    "#     'IMQ-sum-quad': ('IMQ sum (quad.)', Format('C5', '-.', 'v')),\n",
    "}"
   ]
  },
  {
   "cell_type": "markdown",
   "id": "e68aa366",
   "metadata": {},
   "source": [
    "### Compute KSD"
   ]
  },
  {
   "cell_type": "code",
   "execution_count": 75,
   "id": "4aa20015",
   "metadata": {},
   "outputs": [
    {
     "name": "stdout",
     "output_type": "stream",
     "text": [
      "./results/meanshift/StudentT/IMQ_vstat.npy\n",
      "./results/meanshift/StudentT/IMQ-sum-lin_vstat.npy\n"
     ]
    }
   ],
   "source": [
    "rerun = True\n",
    "vstat = True\n",
    "ptbs = torch.logspace(0, 3.3, n_ps)\n",
    "data = np.empty([len(kernels), rep, n_ps])\n",
    "losses = {\n",
    "    k: loss.KSD(v, target.score) \n",
    "    for k, v in kernels.items()\n",
    "}\n",
    "for l_i, (key, l) in enumerate(losses.items()):\n",
    "    filename = (\n",
    "        '{}.npy'.format(key) if not vstat else\n",
    "        '{}_vstat.npy'.format(key)\n",
    "    )\n",
    "    path = os.path.join(dir_path, filename)\n",
    "    print(path)\n",
    "    if os.path.exists(path) and not rerun:\n",
    "        tmp = np.load(path)\n",
    "        data[l_i] = tmp\n",
    "    else:\n",
    "        for j, p in enumerate(ptbs):\n",
    "            n = int(p.item())\n",
    "            with util.TorchSeedContext(seed): \n",
    "                X1 = target.sample(n)\n",
    "            X2 = (n+1) * torch.ones([1, d]) #std * torch.randn(n//2, d) \n",
    "            weight = torch.tensor([1./n * (1-1./(n+1))]*n + [1./(n+1)])\n",
    "            X = torch.vstack([X1, X2])\n",
    "            ####### \n",
    "#             X1 = target.sample(n//2)\n",
    "#             mean = (p+1) * torch.ones(d) / d**0.5\n",
    "#             X2 = torch.randn(n//2, d) + mean \n",
    "#             prob = torch.ones(1) / (p+1)\n",
    "#             weight = torch.ones(n)\n",
    "#             weight[:n//2] = torch.ones(1) - prob\n",
    "#             weight[n//2:] = prob\n",
    "#             weight = torch.tensor([1-prob]*(n//2) + [prob]*(n//2))/(n//2)\n",
    "#             X = torch.vstack([X1, X2])\n",
    "            for i in range(rep):\n",
    "                data[l_i, i, j] = l.loss(X, vstat=vstat, weight=weight, ignore_diag=False).detach().numpy()\n",
    "        result = data[l_i]\n",
    "        np.save(path, result)    \n",
    "ps = ptbs.detach().numpy()"
   ]
  },
  {
   "cell_type": "code",
   "execution_count": 76,
   "id": "45bf92d2",
   "metadata": {},
   "outputs": [
    {
     "data": {
      "image/png": "[encoded data removed]",
      "text/plain": [
       "<Figure size 432x288 with 1 Axes>"
      ]
     },
     "metadata": {
      "needs_background": "light"
     },
     "output_type": "display_data"
    }
   ],
   "source": [
    "from matplotlib.ticker import LogLocator\n",
    "fig = plt.figure()\n",
    "ax = fig.add_subplot(111)\n",
    "ax.set_yscale('log')\n",
    "\n",
    "\n",
    "label = ax.set_xlabel('Sequence index $n$', fontsize = 24)\n",
    "label = ax.set_ylabel('$\\\\mathrm{KSD}_{K, P}(Q_{n})^2$', fontsize = 24)\n",
    "# label.set_rotation(0)\n",
    "# ax.xaxis.set_label_coords(0.5, -0.15)\n",
    "# ax.yaxis.set_label_coords(-0.1, 1.05)   \n",
    "ax.xaxis.set_label_coords(0.5, -0.15)\n",
    "ax.yaxis.set_label_coords(-0.2, 0.5)    \n",
    "\n",
    "ax.set_yticks([1e+0, 1e+1, 1e+2])\n",
    "\n",
    "ps = ptbs.detach().numpy()\n",
    "for ki, key in enumerate(losses.keys()):\n",
    "    label = label_format_tuples[key][0]\n",
    "    fmt = label_format_tuples[key][1]\n",
    "    y = data[ki].mean(axis=0)\n",
    "    ax.plot(ps, data[ki].mean(axis=0), label=label, \n",
    "            color=fmt.color, linestyle=fmt.linestyle)\n",
    "#     error_low = (y - np.percentile(data[ki], q=5, axis=0))\n",
    "#     error_high = np.percentile(data[ki], q=95, axis=0)-y\n",
    "#     errors = np.vstack([error_low, error_high])\n",
    "#     ax.errorbar(ps, y, yerr=errors,\n",
    "#             color=fmt.color, label=label, linestyle=fmt.linestyle)\n",
    "# ax.legend(bbox_to_anchor=(1.75,1.), ncol=4)\n",
    "# plt.legend(bbox_to_anchor=(1.75,1.), ncol=4)\n",
    "ax.set_yscale('log')\n",
    "ax.set_xscale('log')\n",
    "#ax.yaxis.set_minor_locator(LogLocator(numticks=10))\n",
    " \n",
    "# plt.savefig('ksd_comparison_tdist_mean_shift.pdf', bbox_inches='tight')\n",
    "plt.savefig('ksd_comparison_tdist_mean_shift_vstat_df{}.pdf'.format(df), bbox_inches='tight')\n",
    "\n",
    "# plt.savefig('ksd_comparison_tdist_mean_shift_legend.pdf', bbox_inches='tight')"
   ]
  },
  {
   "cell_type": "markdown",
   "id": "2059cfe7",
   "metadata": {},
   "source": [
    "### Varying sample size "
   ]
  },
  {
   "cell_type": "code",
   "execution_count": 42,
   "id": "e3f2e22d",
   "metadata": {},
   "outputs": [],
   "source": [
    "rerun = False\n",
    "n_ps_sample = 30\n",
    "sample_sizes = torch.logspace(2, 4, n_ps_sample)\n",
    "sample_sizes = torch.floor(sample_sizes/2)\n",
    "\n",
    "data = np.empty([len(kernels), rep, n_ps_sample])\n",
    "losses = {\n",
    "    k: loss.KSD(v, target.score) \n",
    "    for k, v in kernels.items()\n",
    "}\n",
    "p = 1e+3\n",
    "prob = torch.ones(1) / p\n",
    "mean = p * torch.ones(d) / d**0.5\n",
    "for l_i, (key, l) in enumerate(losses.items()):\n",
    "    filename = (\n",
    "        '{}_sampinc.npy'.format(key) if not vstat else\n",
    "        '{}_sampinc_vstat.npy'.format(key)\n",
    "    )\n",
    "    path = os.path.join(dir_path, filename)\n",
    "    if os.path.exists(path) and not rerun:\n",
    "        tmp = np.load(path)\n",
    "        data[l_i] = tmp[:rep]\n",
    "    else:\n",
    "        for j, n in enumerate(sample_sizes):\n",
    "            print(n)\n",
    "            n = int(n.item())\n",
    "            X1 = target.sample(n)\n",
    "            X2 = torch.randn(n, d) + mean \n",
    "            prob = torch.ones(1) / (p+1)\n",
    "            weight = torch.ones(n)\n",
    "            weight = torch.tensor([1-prob]*(n) + [prob]*(n))/(n)\n",
    "            X = torch.vstack([X1, X2])\n",
    "            for i in range(rep):\n",
    "                data[l_i, i, j] = l.loss(X, vstat=vstat, weight=weight,ignore_diag=False).detach().numpy()\n",
    "        result = data[l_i]\n",
    "        np.save(path, result)               "
   ]
  },
  {
   "cell_type": "code",
   "execution_count": 43,
   "id": "b96db863",
   "metadata": {},
   "outputs": [
    {
     "data": {
      "image/png": "[encoded data removed]",
      "text/plain": [
       "<Figure size 432x288 with 1 Axes>"
      ]
     },
     "metadata": {
      "needs_background": "light"
     },
     "output_type": "display_data"
    }
   ],
   "source": [
    "from matplotlib.ticker import LogLocator\n",
    "fig = plt.figure()\n",
    "ax = fig.add_subplot(111)\n",
    "ax.set_yscale('log')\n",
    "\n",
    "\n",
    "label = ax.set_xlabel('Sample size $N$', fontsize = 24)\n",
    "label = ax.set_ylabel('$\\\\mathrm{DKSD}(P, Q_{n, N})^2$', fontsize = 24)\n",
    "label.set_rotation(0)\n",
    "ax.xaxis.set_label_coords(0.5, -0.15)\n",
    "ax.yaxis.set_label_coords(-0.1, 1.05)    \n",
    "\n",
    "# ax.set_yticks([1e+0, 1e+1, 1e+2])\n",
    "\n",
    "ps = sample_sizes.detach().numpy()\n",
    "for ki, key in enumerate(losses.keys()):\n",
    "    label = label_format_tuples[key][0]\n",
    "    fmt = label_format_tuples[key][1]\n",
    "    y = data[ki].mean(axis=0)\n",
    "    ax.plot(ps, y, label=label, \n",
    "        color=fmt.color, linestyle=fmt.linestyle)\n",
    "\n",
    "# ax.legend(bbox_to_anchor=(1.75,1.), ncol=4)\n",
    "ax.set_yscale('log')\n",
    "ax.set_xscale('log')\n",
    "\n",
    "#ax.yaxis.set_minor_locator(LogLocator(numticks=10))\n",
    " \n",
    "plt.savefig('ksd_comparison_tdist_mean_shift_sampsize_vstat_df{}.pdf'.format(df), bbox_inches='tight')\n"
   ]
  },
  {
   "cell_type": "code",
   "execution_count": null,
   "id": "3758e725-2cbc-4f8b-8b3f-aa0533978ac1",
   "metadata": {},
   "outputs": [],
   "source": []
  },
  {
   "cell_type": "code",
   "execution_count": null,
   "id": "4cca2b6d",
   "metadata": {},
   "outputs": [],
   "source": []
  }
 ],
 "metadata": {
  "kernelspec": {
   "display_name": "Python 3",
   "language": "python",
   "name": "python3"
  },
  "language_info": {
   "codemirror_mode": {
    "name": "ipython",
    "version": 3
   },
   "file_extension": ".py",
   "mimetype": "text/x-python",
   "name": "python",
   "nbconvert_exporter": "python",
   "pygments_lexer": "ipython3",
   "version": "3.6.13"
  }
 },
 "nbformat": 4,
 "nbformat_minor": 5
}
