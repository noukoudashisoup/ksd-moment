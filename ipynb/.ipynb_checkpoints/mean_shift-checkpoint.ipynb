{
 "cells": [
  {
   "cell_type": "markdown",
   "id": "55c6e039",
   "metadata": {},
   "source": [
    "## Experiment for mean non-convergence problem with Gaussian target"
   ]
  },
  {
   "cell_type": "code",
   "execution_count": 1,
   "id": "a594aa76",
   "metadata": {},
   "outputs": [],
   "source": [
    "%load_ext autoreload\n",
    "%autoreload 2\n",
    "%matplotlib inline"
   ]
  },
  {
   "cell_type": "code",
   "execution_count": 2,
   "id": "2ce4a329",
   "metadata": {},
   "outputs": [],
   "source": [
    "import torch\n",
    "import math\n",
    "import torch.distributions as dists\n",
    "from scem import loss, util, kernel, net, stein, cpdkernel\n",
    "import matplotlib\n",
    "import matplotlib.pyplot as plt\n",
    "import numpy as np\n",
    "import os\n",
    "from os.path import dirname, join\n",
    "import pickle\n",
    "import ksdmom.sampler as samp\n",
    "from collections import namedtuple"
   ]
  },
  {
   "cell_type": "code",
   "execution_count": 3,
   "id": "09451156",
   "metadata": {},
   "outputs": [],
   "source": [
    "results_path = './results/meanshift'\n",
    "problem = 'Gaussian'"
   ]
  },
  {
   "cell_type": "code",
   "execution_count": 4,
   "id": "12195f2d",
   "metadata": {},
   "outputs": [],
   "source": [
    "torch.manual_seed(101)\n",
    "torch.set_default_tensor_type(torch.DoubleTensor)"
   ]
  },
  {
   "cell_type": "code",
   "execution_count": 5,
   "id": "1d928ecb",
   "metadata": {},
   "outputs": [],
   "source": [
    "font = {\n",
    "    'family' : 'serif',\n",
    "#     'weight' : 'bold',\n",
    "    'size'   : 24\n",
    "}\n",
    "# matplotlib.rc('font', **{'family': 'serif', 'serif': ['Computer Modern']})\n",
    "\n",
    "matplotlib.rc('text', usetex=True)\n",
    "matplotlib.rcParams['text.usetex'] = True\n",
    "plt.rc('font', **font)\n",
    "plt.rc('lines', linewidth=3, markersize=10)\n",
    "matplotlib.rcParams['pdf.fonttype'] = 42\n",
    "matplotlib.rcParams['ps.fonttype'] = 42\n"
   ]
  },
  {
   "cell_type": "code",
   "execution_count": 6,
   "id": "0e56a067",
   "metadata": {},
   "outputs": [],
   "source": [
    "dir_path = (join(results_path, problem))\n",
    "if not os.path.exists(dir_path):\n",
    "    os.makedirs(dir_path)"
   ]
  },
  {
   "cell_type": "code",
   "execution_count": 7,
   "id": "2f514a6b",
   "metadata": {},
   "outputs": [],
   "source": [
    "class Normal:\n",
    "    def __init__(self, m, s):\n",
    "        self.m = m \n",
    "        self.s = s\n",
    "    \n",
    "    def den(self, X):\n",
    "        m = self.m\n",
    "        s = self.s \n",
    "        \n",
    "        den = torch.exp(-torch.sum((X-m)**2, axis=1)/(2*s**2))\n",
    "        den /= (2*math.pi*s**2)**(d/2)\n",
    "        return den\n",
    "    \n",
    "    def log_den(self, X):\n",
    "        m = self.m\n",
    "        s = self.s\n",
    "        ld = -torch.sum((X-m)**2, axis=1)/(2*s**2)\n",
    "        ld -= d/2 * torch.log(torch.tensor(2*math.pi*s**2))\n",
    "        return ld\n",
    "    \n",
    "    def score(self, X):\n",
    "        m = self.m \n",
    "        s = self.s\n",
    "        return -(X-m) / s**2\n",
    "    \n",
    "    def sample(self, n):\n",
    "        m = self.m\n",
    "        d = len(m)\n",
    "        return m + self.s * torch.randn(n, d)\n",
    "    \n",
    "class MixNormal:\n",
    "    def __init__(self, m1, m2, s1, s2, mweights=None):\n",
    "        self.m1 = m1\n",
    "        self.m2 = m2\n",
    "        self.s1 = s1\n",
    "        self.s2 = s2\n",
    "        self.mweights = (mweights if mweights is not None else \n",
    "                         torch.ones(2)/2.)\n",
    "    \n",
    "    def score(self, X):\n",
    "        m1 = self.m1\n",
    "        m2 = self.m2\n",
    "        s1 = self.s1\n",
    "        s2 = self.s2\n",
    "        d = len(self.m1)\n",
    "        mweights = self.mweights\n",
    "\n",
    "        den1 = torch.exp(-torch.sum((X-m1)**2, axis=1)/(2*s1**2))\n",
    "        den1 /= (2*math.pi*s1**2)**(d/2)\n",
    "        den2 = torch.exp(-torch.sum((X-m2)**2, axis=1)/(2*s2**2))\n",
    "        den2 /= (2*math.pi*s2**2)**(d/2)\n",
    "\n",
    "        score1 = -(X - m1)/(s1**2) \n",
    "        score2 = -(X - m2)/(s2**2) \n",
    "        \n",
    "        post_prob1 = mweights[0] * den1 / (mweights[0]*den1 + mweights[1]*den2)\n",
    "        post_prob1 = post_prob1.unsqueeze(1)\n",
    "        post_prob2 = 1. - post_prob1\n",
    "        sc = post_prob1*score1 + post_prob2*score2\n",
    "        return sc\n",
    "    \n",
    "    def den(self, X):\n",
    "        m1 = self.m1\n",
    "        m2 = self.m2\n",
    "        s1 = self.s1\n",
    "        s2 = self.s2\n",
    "        d = len(self.m1)\n",
    "        w = self.mweights\n",
    "        den1 = torch.exp(-torch.sum((X-m1)**2, axis=1)/(2*s1**2))\n",
    "        den1 /= (2*math.pi*s1**2)**(d/2)\n",
    "        den2 = torch.exp(-torch.sum((X-m2)**2, axis=1)/(2*s2**2))\n",
    "        den2 /= (2*math.pi*s2**2)**(d/2)\n",
    "        return w[0]*den1 + w[1]*den2\n",
    "    \n",
    "    def log_den(self, X):\n",
    "        return torch.log(self.den(X))\n",
    "    \n",
    "    def sample(self, n):\n",
    "        m = torch.distributions.Binomial(n, torch.tensor([self.mweights[0]]))        \n",
    "        n1 = int(m.sample().item())\n",
    "        n2 = n - n1 \n",
    "        print(n2)\n",
    "        d = len(self.m1)\n",
    "        X1 = self.s1*torch.randn(n1, d) + self.m1\n",
    "        X2 = self.s2*torch.randn(n2, d) + self.m2\n",
    "        X = torch.cat([X1, X2])\n",
    "        for _ in range(30):\n",
    "            idx = torch.randperm(n)\n",
    "            X = X[idx]\n",
    "        return X"
   ]
  },
  {
   "cell_type": "code",
   "execution_count": 8,
   "id": "cc3cb6cb",
   "metadata": {},
   "outputs": [],
   "source": [
    "n = 1000\n",
    "rep = 1\n",
    "n_ps = 100\n",
    "d = 5\n",
    "m = -torch.ones(d)/d**0.5\n",
    "s = 1\n",
    "target = Normal(m, s)\n",
    "rerun = True\n",
    "vstat = True"
   ]
  },
  {
   "cell_type": "markdown",
   "id": "b2e67919",
   "metadata": {},
   "source": [
    "### Defining kernels"
   ]
  },
  {
   "cell_type": "code",
   "execution_count": 9,
   "id": "852c1345",
   "metadata": {},
   "outputs": [],
   "source": [
    "\n",
    "kimq  = kernel.KIMQ(b=-0.5)\n",
    "loc = None\n",
    "klin = kernel.KLinear(scale=1, loc=loc, bias=1)\n",
    "w = kernel.MultiquadraticWeight(p=-0.5, bias=1, loc=loc)\n",
    "kw = kernel.KSTWeight(w_func=w)\n",
    "ktilted_lin = kernel.KSTProduct(klin, kw)\n",
    "ksum_imq = kernel.KSTSumKernel([ktilted_lin, kimq])\n",
    "\n",
    "w_ = kernel.MultiquadraticWeight(p=0.1/2, bias=1, loc=loc)\n",
    "kw_ = kernel.KSTWeight(w_func=w_)\n",
    "kx = kernel.KSTProduct(ksum_imq, kw_)\n",
    "\n",
    "kmat = kernel.KMatern(scale=1)\n",
    "kmat_sum = kernel.KSTSumKernel([ktilted_lin, kimq])\n",
    "kmat_sum = kernel.KSTProduct(kmat_sum, kw_)\n",
    "\n",
    "kernels = {\n",
    "    'IMQ': kimq, \n",
    "    'IMQ-sum-theta': kx,\n",
    "    'IMQ-sum': ksum_imq,\n",
    "#     'Mat-sum': kmat_sum,\n",
    "}"
   ]
  },
  {
   "cell_type": "markdown",
   "id": "8647da3c",
   "metadata": {},
   "source": [
    "### Perturbing the target distribution"
   ]
  },
  {
   "cell_type": "code",
   "execution_count": 10,
   "id": "53fcbdb3",
   "metadata": {},
   "outputs": [],
   "source": [
    "ptbs = torch.logspace(0, 8, n_ps)\n",
    "data = np.empty([len(kernels), rep, n_ps])\n",
    "losses = {\n",
    "    k: loss.KSD(v, target.score) \n",
    "    for k, v in kernels.items()\n",
    "}\n",
    "sampler = samp.MixSampler(target, Normal(m, s))\n",
    "bias = torch.ones(d) / d**0.5\n",
    "for l_i, (key, l) in enumerate(losses.items()):\n",
    "    filename = (\n",
    "        '{}.npy'.format(key) if not vstat else\n",
    "        '{}_vstat.npy'.format(key)\n",
    "    )\n",
    "    path = os.path.join(dir_path, filename)\n",
    "    if os.path.exists(path) and not rerun:\n",
    "        tmp = np.load(path)\n",
    "        data[l_i] = tmp\n",
    "    else:\n",
    "        for j, p in enumerate(ptbs):\n",
    "            prob = torch.ones(1) / (p+1)\n",
    "            X1 = target.sample(n//2)\n",
    "            mean = bias / prob\n",
    "            X2 = s**0.5 * torch.randn(n//2, d) + mean \n",
    "            weight = torch.ones(n)\n",
    "            weight[:n//2] = torch.ones(1) - prob\n",
    "            weight[n//2:] = prob\n",
    "            X = torch.vstack([X1, X2])\n",
    "            for i in range(rep):\n",
    "                data[l_i, i, j] = l.loss(X, vstat=vstat, weight=weight, ignore_diag=False).detach().numpy()\n",
    "        result = data[l_i]\n",
    "        np.save(path, result)  \n",
    "ps = ptbs.detach().numpy()"
   ]
  },
  {
   "cell_type": "code",
   "execution_count": 11,
   "id": "5ff51a79",
   "metadata": {},
   "outputs": [],
   "source": [
    "Format = namedtuple('Format', ['color', 'linestyle', 'marker'])\n",
    "label_format_tuples = {\n",
    "    'IMQ': (\"IMQ \", Format('C1', '-', '*')),\n",
    "    'IMQ-sum': ('IMQ sum (lin.) $\\\\theta=0$', Format('C2', '--', 'o')),\n",
    "    'IMQ-sum-theta': ('IMQ sum (lin.) $\\\\theta=0.1$', Format('C3', '-.', 'v')),\n",
    "}"
   ]
  },
  {
   "cell_type": "code",
   "execution_count": 12,
   "id": "7ab4d823",
   "metadata": {},
   "outputs": [
    {
     "data": {
      "image/png": "[encoded data removed]",
      "text/plain": [
       "<Figure size 432x288 with 1 Axes>"
      ]
     },
     "metadata": {
      "needs_background": "light"
     },
     "output_type": "display_data"
    }
   ],
   "source": [
    "from matplotlib.ticker import LogLocator\n",
    "fig = plt.figure()\n",
    "ax = fig.add_subplot(111)\n",
    "ax.set_yscale('log')\n",
    "\n",
    "\n",
    "label = ax.set_xlabel('Sequence index $n$', fontsize = 24)\n",
    "label = ax.set_ylabel('$\\\\mathrm{KSD}(P, Q_{n,N})^2$', fontsize = 24)\n",
    "label.set_rotation(0)\n",
    "ax.xaxis.set_label_coords(0.5, -0.15)\n",
    "ax.yaxis.set_label_coords(-0.1, 1.05)    \n",
    "\n",
    "ax.set_yticks([1e+0, 1e+1, 1e+2])\n",
    "\n",
    "ps = ptbs.detach().numpy()\n",
    "for ki, key in enumerate(losses.keys()):\n",
    "    label = label_format_tuples[key][0]\n",
    "    fmt = label_format_tuples[key][1]\n",
    "    y = data[ki].mean(axis=0)\n",
    "#     y = data[ki][0]\n",
    "    ax.plot(ps, y, label=label, \n",
    "        color=fmt.color, linestyle=fmt.linestyle)\n",
    "\n",
    "#     error_low = (y - np.percentile(data[ki], q=5, axis=0))\n",
    "#     error_high = np.percentile(data[ki], q=95, axis=0)-y\n",
    "#     errors = np.vstack([error_low, error_high])\n",
    "#     ax.errorbar(ps, y, yerr=errors,\n",
    "#             color=fmt.color, label=label, linestyle=fmt.linestyle)\n",
    "#     ax.violinplot(data[ki], ps, showmeans=True, showextrema=False, widths=1.5)\n",
    "\n",
    "# ax.legend(bbox_to_anchor=(1.75,1.), ncol=4)\n",
    "# plt.legend(bbox_to_anchor=(1.75,1.), ncol=2)\n",
    "ax.set_yscale('log')\n",
    "ax.set_xscale('log')\n",
    "\n",
    "#ax.yaxis.set_minor_locator(LogLocator(numticks=10))\n",
    " \n",
    "# plt.savefig('ksd_comparison_mean_shift.pdf', bbox_inches='tight')\n",
    "plt.savefig('ksd_comparison_mean_shift_vstat.pdf', bbox_inches='tight')\n",
    "# plt.savefig('ksd_comparison_mean_shift_legend_col2.pdf', bbox_inches='tight')\n",
    "# plt.savefig('ksd_comparison_mean_shift_legend.pdf', bbox_inches='tight')"
   ]
  },
  {
   "cell_type": "markdown",
   "id": "ce356b6c",
   "metadata": {},
   "source": [
    "### Varying sample size "
   ]
  },
  {
   "cell_type": "code",
   "execution_count": 13,
   "id": "5a6e7260",
   "metadata": {},
   "outputs": [],
   "source": [
    "rerun = True\n",
    "n_ps_sample = 30\n",
    "sample_sizes = torch.logspace(2, 4, n_ps_sample)\n",
    "sample_sizes = torch.floor(sample_sizes/2)\n",
    "data = np.empty([len(kernels), rep, n_ps_sample])\n",
    "losses = {\n",
    "    k: loss.KSD(v, target.score) \n",
    "    for k, v in kernels.items()\n",
    "}\n",
    "p = 1e+6\n",
    "prob = torch.ones(1) / p \n",
    "mean = p * bias\n",
    "for l_i, (key, l) in enumerate(losses.items()):\n",
    "    filename = (\n",
    "        '{}._sampinc_npy'.format(key) if not vstat else\n",
    "        '{}_sampinc_vstat.npy'.format(key)\n",
    "    )\n",
    "    path = os.path.join(dir_path, filename)\n",
    "    if os.path.exists(path) and not rerun:\n",
    "        tmp = np.load(path)\n",
    "        data[l_i] = tmp[:rep]\n",
    "    else:\n",
    "        for j, n in enumerate(sample_sizes):\n",
    "            n = int(n.item())\n",
    "            X1 = target.sample(n)\n",
    "            X2 = s**0.5 * torch.randn(n, d) + mean \n",
    "            weight = torch.ones(2*n)\n",
    "            weight[:n] = torch.ones(1) - prob\n",
    "            weight[n:] = prob\n",
    "            X = torch.vstack([X1, X2])\n",
    "            for i in range(rep):\n",
    "                data[l_i, i, j] = l.loss(X, vstat=vstat, weight=weight, ignore_diag=False).detach().numpy()\n",
    "        result = data[l_i]\n",
    "        np.save(path, result)               "
   ]
  },
  {
   "cell_type": "code",
   "execution_count": 14,
   "id": "e386049d",
   "metadata": {},
   "outputs": [
    {
     "data": {
      "image/png": "[encoded data removed]",
      "text/plain": [
       "<Figure size 432x288 with 1 Axes>"
      ]
     },
     "metadata": {
      "needs_background": "light"
     },
     "output_type": "display_data"
    }
   ],
   "source": [
    "from matplotlib.ticker import LogLocator\n",
    "fig = plt.figure()\n",
    "ax = fig.add_subplot(111)\n",
    "ax.set_yscale('log')\n",
    "\n",
    "\n",
    "label = ax.set_xlabel('Sample size $N$', fontsize = 24)\n",
    "label = ax.set_ylabel('$\\\\mathrm{KSD}(P, Q_{\\\\tilde{n}, N})^2$', fontsize = 24)\n",
    "label.set_rotation(0)\n",
    "ax.xaxis.set_label_coords(0.5, -0.15)\n",
    "ax.yaxis.set_label_coords(-0.1, 1.05)    \n",
    "\n",
    "ax.set_yticks([1e+0, 1e+1, 1e+2])\n",
    "\n",
    "ps = sample_sizes.detach().numpy()\n",
    "for ki, key in enumerate(losses.keys()):\n",
    "    label = label_format_tuples[key][0]\n",
    "    fmt = label_format_tuples[key][1]\n",
    "    y = data[ki].mean(axis=0)\n",
    "    ax.plot(ps, y, label=label, \n",
    "        color=fmt.color, linestyle=fmt.linestyle)\n",
    "\n",
    "#     error_low = (y - np.percentile(data[ki], q=5, axis=0))\n",
    "#     error_high = np.percentile(data[ki], q=95, axis=0)-y\n",
    "#     errors = np.vstack([error_low, error_high])\n",
    "#     ax.errorbar(ps, y, yerr=errors,\n",
    "#             color=fmt.color, label=label, linestyle=fmt.linestyle)\n",
    "#     ax.violinplot(data[ki], ps, showmeans=True, showextrema=False, widths=1.5)\n",
    "\n",
    "# ax.legend(bbox_to_anchor=(1.75,1.), ncol=4)\n",
    "# plt.legend(bbox_to_anchor=(1.75,1.), ncol=2)\n",
    "ax.set_yscale('log')\n",
    "ax.set_xscale('log')\n",
    "\n",
    "#ax.yaxis.set_minor_locator(LogLocator(numticks=10))\n",
    "plt.savefig('ksd_comparison_mean_shift_sampsize_vstat.pdf', bbox_inches='tight')"
   ]
  }
 ],
 "metadata": {
  "kernelspec": {
   "display_name": "Python 3",
   "language": "python",
   "name": "python3"
  },
  "language_info": {
   "codemirror_mode": {
    "name": "ipython",
    "version": 3
   },
   "file_extension": ".py",
   "mimetype": "text/x-python",
   "name": "python",
   "nbconvert_exporter": "python",
   "pygments_lexer": "ipython3",
   "version": "3.6.13"
  }
 },
 "nbformat": 4,
 "nbformat_minor": 5
}
