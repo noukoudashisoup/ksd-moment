{
 "cells": [
  {
   "cell_type": "markdown",
   "id": "45697f70",
   "metadata": {},
   "source": [
    "## Experiment with Gaussian mixtures without kernel optimisation"
   ]
  },
  {
   "cell_type": "code",
   "execution_count": null,
   "id": "3bc12c0a",
   "metadata": {},
   "outputs": [],
   "source": [
    "%load_ext autoreload\n",
    "%autoreload 2\n",
    "%matplotlib inline"
   ]
  },
  {
   "cell_type": "code",
   "execution_count": null,
   "id": "baf291f7",
   "metadata": {},
   "outputs": [],
   "source": [
    "import torch\n",
    "import math\n",
    "import torch.distributions as dists\n",
    "from scem import loss, util, kernel, net, stein, cpdkernel\n",
    "import matplotlib\n",
    "import matplotlib.pyplot as plt\n",
    "import numpy as np\n",
    "import os\n",
    "from os.path import dirname, join\n",
    "import ksdmom.sampler as samp\n",
    "from collections import namedtuple"
   ]
  },
  {
   "cell_type": "code",
   "execution_count": null,
   "id": "c3ab92ac",
   "metadata": {},
   "outputs": [],
   "source": [
    "torch.manual_seed(101)"
   ]
  },
  {
   "cell_type": "code",
   "execution_count": null,
   "id": "89e5daba",
   "metadata": {},
   "outputs": [],
   "source": [
    "results_path = './results/mixture'\n",
    "problem = 'Gaussian'"
   ]
  },
  {
   "cell_type": "code",
   "execution_count": null,
   "id": "f8c6c3eb",
   "metadata": {},
   "outputs": [],
   "source": [
    "dir_path = (join(results_path, problem))\n",
    "if not os.path.exists(dir_path):\n",
    "    os.makedirs(dir_path)"
   ]
  },
  {
   "cell_type": "code",
   "execution_count": null,
   "id": "ebedcd12",
   "metadata": {},
   "outputs": [],
   "source": [
    "font = {\n",
    "    'family' : 'serif',\n",
    "#     'weight' : 'bold',\n",
    "    'size'   : 24\n",
    "}\n",
    "# matplotlib.rc('font', **{'family': 'serif', 'serif': ['Computer Modern']})\n",
    "\n",
    "matplotlib.rc('text', usetex=True)\n",
    "matplotlib.rcParams['text.usetex'] = True\n",
    "plt.rc('font', **font)\n",
    "plt.rc('lines', linewidth=3, markersize=10)\n",
    "matplotlib.rcParams['pdf.fonttype'] = 42\n",
    "matplotlib.rcParams['ps.fonttype'] = 42\n"
   ]
  },
  {
   "cell_type": "markdown",
   "id": "264c66a3",
   "metadata": {},
   "source": [
    "### Distributions"
   ]
  },
  {
   "cell_type": "code",
   "execution_count": null,
   "id": "6d659dea",
   "metadata": {},
   "outputs": [],
   "source": [
    "class Normal:\n",
    "    def __init__(self, m, s):\n",
    "        self.m = m \n",
    "        self.s = s\n",
    "    \n",
    "    def den(self, X):\n",
    "        m = self.m\n",
    "        s = self.s \n",
    "        \n",
    "        den = torch.exp(-torch.sum((X-m)**2, axis=1)/(2*s**2))\n",
    "        den /= (2*math.pi*s**2)**(d/2)\n",
    "        return den\n",
    "    \n",
    "    def log_den(self, X):\n",
    "        m = self.m\n",
    "        s = self.s\n",
    "        ld = -torch.sum((X-m)**2, axis=1)/(2*s**2)\n",
    "        ld -= d/2 * torch.log(torch.tensor(2*math.pi*s**2))\n",
    "        return ld\n",
    "    \n",
    "    def score(self, X):\n",
    "        m = self.m \n",
    "        s = self.s\n",
    "        return -(X-m) / s**2\n",
    "    \n",
    "    def sample(self, n):\n",
    "        m = self.m\n",
    "        d = len(m)\n",
    "        return m + self.s * torch.randn(n, d)\n",
    "    \n",
    "class MixNormal:\n",
    "    def __init__(self, m1, m2, s1, s2, mweights):\n",
    "        self.m1 = m1\n",
    "        self.m2 = m2\n",
    "        self.s1 = s1\n",
    "        self.s2 = s2\n",
    "        self.n1 = Normal(m1, s1)\n",
    "        self.n2 = Normal(m2, s2)\n",
    "        self.mweights = mweights\n",
    "    \n",
    "    def score(self, X):\n",
    "        m1 = self.m1\n",
    "        m2 = self.m2\n",
    "        s1 = self.s1\n",
    "        s2 = self.s2\n",
    "        d = len(self.m1)\n",
    "        mweights = self.mweights\n",
    "\n",
    "        logden1 = self.n1.log_den(X)\n",
    "        logden2 = self.n2.log_den(X)\n",
    "\n",
    "        score1 = -(X - m1)/(s1**2) \n",
    "        score2 = -(X - m2)/(s2**2) \n",
    "        \n",
    "        post_prob1 = 1. / (1. + (mweights[1]/mweights[0])*torch.exp(logden2-logden1))\n",
    "        post_prob1 = post_prob1.unsqueeze(1)\n",
    "        post_prob2 = 1. - post_prob1\n",
    "        sc = post_prob1*score1 + post_prob2*score2\n",
    "        return sc\n",
    "    \n",
    "    def den(self, X):\n",
    "        m1 = self.m1\n",
    "        m2 = self.m2\n",
    "        s1 = self.s1\n",
    "        s2 = self.s2\n",
    "        d = len(self.m1)\n",
    "        w = self.mweights\n",
    "        den1 = torch.exp(-torch.sum((X-m1)**2, axis=1)/(2*s1**2))\n",
    "        den1 /= (2*math.pi*s1**2)**(d/2)\n",
    "        den2 = torch.exp(-torch.sum((X-m2)**2, axis=1)/(2*s2**2))\n",
    "        den2 /= (2*math.pi*s2**2)**(d/2)\n",
    "        return w[0]*den1 + w[1]*den2\n",
    "    \n",
    "    def log_den(self, X):\n",
    "        return torch.log(self.den(X))\n",
    "    \n",
    "    def sample(self, n):\n",
    "        m = torch.distributions.Binomial(n, torch.tensor([self.mweights[0]]))        \n",
    "        n1 = int(m.sample().item())\n",
    "        n2 = n - n1 \n",
    "        d = len(self.m1)\n",
    "        X1 = self.s1*torch.randn(n1, d) + self.m1\n",
    "        X2 = self.s2*torch.randn(n2, d) + self.m2\n",
    "        X = torch.cat([X1, X2])\n",
    "        for _ in range(100):\n",
    "            idx = torch.randperm(n)\n",
    "            X = X[idx]\n",
    "        return X"
   ]
  },
  {
   "cell_type": "code",
   "execution_count": null,
   "id": "00d7ac73",
   "metadata": {},
   "outputs": [],
   "source": [
    "d = 5\n",
    "m1 = -30*torch.ones(d)\n",
    "m2 = -10*torch.ones(d)\n",
    "s1 = 1.\n",
    "s2 = 1.\n",
    "target = MixNormal(m1, m2, s1, s2, 0.5*(torch.ones(2)))\n",
    "model = MixNormal(m1, m2, s1, s2, torch.tensor([0.2, 0.8]))"
   ]
  },
  {
   "cell_type": "markdown",
   "id": "2782b82c",
   "metadata": {},
   "source": [
    "### Define kernels"
   ]
  },
  {
   "cell_type": "code",
   "execution_count": null,
   "id": "21bd030d",
   "metadata": {},
   "outputs": [],
   "source": [
    "kimq  = kernel.KIMQ(b=-0.5)\n",
    "loc = None\n",
    "klin = kernel.KLinear(scale=1, loc=loc, bias=1)\n",
    "w = kernel.MultiquadraticWeight(p=-0.5, bias=1, loc=loc)\n",
    "kw = kernel.KSTWeight(w_func=w)\n",
    "ktilted_lin = kernel.KSTProduct(klin, kw)\n",
    "kimq_sum = kernel.KSTSumKernel([ktilted_lin, kimq])\n",
    "\n",
    "kmat = kernel.KMatern(scale=1)\n",
    "kmat_sum = kernel.KSTSumKernel([ktilted_lin, kmat])\n",
    "\n",
    "kernels = {\n",
    "#     'IMQ': kimq,\n",
    "    'IMQ-sum': kimq_sum, \n",
    "    'Mat-sum': kmat_sum,\n",
    "}"
   ]
  },
  {
   "cell_type": "markdown",
   "id": "98408fa8",
   "metadata": {},
   "source": [
    "### Compute KSD"
   ]
  },
  {
   "cell_type": "code",
   "execution_count": null,
   "id": "35fb3dd6",
   "metadata": {},
   "outputs": [],
   "source": [
    "n = 500\n",
    "rep = 100\n",
    "n_ps = 30\n",
    "ps = torch.linspace(0.0, 0.5, n_ps)\n",
    "rerun = False\n",
    "separate = False"
   ]
  },
  {
   "cell_type": "code",
   "execution_count": null,
   "id": "af04e089",
   "metadata": {},
   "outputs": [],
   "source": [
    "data = np.empty([len(kernels), rep, n_ps])\n",
    "losses = {\n",
    "    k: loss.KSD(v, target.score) \n",
    "    for k, v in kernels.items()\n",
    "}\n",
    "if not separate: \n",
    "    weight = None\n",
    "\n",
    "for l_i, (key, l) in enumerate(losses.items()):\n",
    "    filename = (\n",
    "        '{}_separate.npy'.format(key) if separate else\n",
    "        '{}.npy'.format(key)\n",
    "    )\n",
    "    print(filename)\n",
    "    path = os.path.join(dir_path, filename)\n",
    "    if os.path.exists(path) and not rerun:\n",
    "        tmp = np.load(path)\n",
    "        data[l_i] = tmp\n",
    "    else:\n",
    "        for j, p in enumerate(ps):\n",
    "            model = MixNormal(m1, m2, s1, s2, torch.tensor([p, 1-p]))\n",
    "            for i in range(rep):\n",
    "                if separate:\n",
    "                    X1 = s1*torch.randn(n//2, d) + m1\n",
    "                    X2 = s2*torch.randn(n//2, d) + m2\n",
    "                    X = torch.vstack([X1, X2])\n",
    "                    weight = torch.tensor([p]*(n//2) + [1-p]*(n//2))/(n//2)\n",
    "                else:\n",
    "                    X = model.sample(n)\n",
    "                data[l_i, i, j] = l.loss(X, vstat=True, weight=weight, ignore_diag=False).detach().numpy()\n",
    "        result = data[l_i]\n",
    "        np.save(path, result)               "
   ]
  },
  {
   "cell_type": "code",
   "execution_count": null,
   "id": "331be588",
   "metadata": {},
   "outputs": [],
   "source": [
    "Format = namedtuple('Format', ['color', 'linestyle',])\n",
    "label_format_tuples = {\n",
    "    'IMQ': (\"IMQ \", Format('C1', '-',)),\n",
    "    'IMQ-sum': ('IMQ sum (lin.) $\\\\theta=0$', Format('C2', '--',)),\n",
    "    'Mat-sum': ('Matérn sum (lin.) $\\\\theta=0.1$', Format('C7', '-.',)),\n",
    "}"
   ]
  },
  {
   "cell_type": "code",
   "execution_count": null,
   "id": "4d428baa",
   "metadata": {},
   "outputs": [],
   "source": [
    "fig, axes = plt.subplots(nrows=1, ncols=len(losses), sharey=True,\n",
    "                         figsize=(8*len(losses), 6))\n",
    "\n",
    "for ki, key in enumerate(losses.keys()):\n",
    "    ax = axes[ki]\n",
    "    ax.set_yscale('linear')\n",
    "\n",
    "    label = ax.set_xlabel('Mixture ratio $\\pi$', fontsize = 24)\n",
    "    ax.xaxis.set_label_coords(0.5, -0.15)\n",
    "    if ki == 0:\n",
    "        label = ax.set_ylabel('$\\\\mathrm{KSD}(P, Q_{\\pi,N})$', fontsize = 24)\n",
    "        label.set_rotation(0)\n",
    "        ax.yaxis.set_label_coords(-0.1, 1.05)    \n",
    "\n",
    "#     ax.set_yticks([1e-1, 1e+0, 1e+1, 1e+2])\n",
    "    ax.set_xticks([0.1*i for i in range(0, 5+1)])\n",
    "\n",
    "\n",
    "    label = label_format_tuples[key][0]\n",
    "    fmt = label_format_tuples[key][1]\n",
    "#     ax.plot(ps, data[ki].mean(axis=0), label=label, \n",
    "#             color=fmt.color, linestyle=fmt.linestyle)\n",
    "    y = data[ki].mean(axis=0)\n",
    "#     y = np.percentile(data[ki], q=50, axis=0)\n",
    "#     ax.plot(ps, y, color=fmt.color, label=label, linestyle=fmt.linestyle)\n",
    "    error_low = (y - np.percentile(data[ki], q=5, axis=0))\n",
    "    error_high = np.percentile(data[ki], q=95, axis=0)-y\n",
    "    errors = np.vstack([error_low, error_high])\n",
    "#     ax.errorbar(ps, y, yerr=data[ki].std(axis=0),\n",
    "#     ax.errorbar(ps, y, yerr=errors,\n",
    "#                 color=fmt.color, label=label, linestyle=fmt.linestyle, alpha=0.3)\n",
    "    violin_parts = ax.violinplot(data[ki], ps.detach().numpy(), showmeans=True, showextrema=False, \n",
    "                                 widths=0.01)\n",
    "    plt.setp(violin_parts['bodies'], facecolor=fmt.color, edgecolor='black', alpha=0.3)\n",
    "    plt.setp(violin_parts['cmeans'], edgecolor=fmt.color)\n",
    "\n",
    "plt.savefig('ksd_gauss_mixture_imq_vs_matern.pdf', bbox_inches='tight')"
   ]
  }
 ],
 "metadata": {
  "kernelspec": {
   "display_name": "Python 3",
   "language": "python",
   "name": "python3"
  },
  "language_info": {
   "codemirror_mode": {
    "name": "ipython",
    "version": 3
   },
   "file_extension": ".py",
   "mimetype": "text/x-python",
   "name": "python",
   "nbconvert_exporter": "python",
   "pygments_lexer": "ipython3",
   "version": "3.6.13"
  }
 },
 "nbformat": 4,
 "nbformat_minor": 5
}
