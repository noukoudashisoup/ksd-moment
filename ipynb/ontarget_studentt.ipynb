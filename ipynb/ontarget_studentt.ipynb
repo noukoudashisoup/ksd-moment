{
 "cells": [
  {
   "cell_type": "code",
   "execution_count": 41,
   "id": "c30662de",
   "metadata": {},
   "outputs": [
    {
     "name": "stdout",
     "output_type": "stream",
     "text": [
      "The autoreload extension is already loaded. To reload it, use:\n",
      "  %reload_ext autoreload\n"
     ]
    }
   ],
   "source": [
    "%load_ext autoreload\n",
    "%autoreload 2\n",
    "%matplotlib inline"
   ]
  },
  {
   "cell_type": "code",
   "execution_count": 42,
   "id": "f44bda3e",
   "metadata": {},
   "outputs": [],
   "source": [
    "import torch\n",
    "import math\n",
    "import torch.distributions as dists\n",
    "from scem import loss, util, kernel, net, stein, cpdkernel\n",
    "import matplotlib\n",
    "import matplotlib.pyplot as plt\n",
    "import numpy as np\n",
    "import os\n",
    "from os.path import dirname, join\n",
    "import pickle\n",
    "import ksdmom.sampler as samp\n",
    "from collections import namedtuple"
   ]
  },
  {
   "cell_type": "code",
   "execution_count": 43,
   "id": "6e9062ad",
   "metadata": {},
   "outputs": [],
   "source": [
    "results_path = './results/meanshift'\n",
    "problem = 'StudentT_ontarget'"
   ]
  },
  {
   "cell_type": "code",
   "execution_count": 44,
   "id": "096ea881",
   "metadata": {},
   "outputs": [
    {
     "data": {
      "text/plain": [
       "<torch._C.Generator at 0x7f96984e11c8>"
      ]
     },
     "execution_count": 44,
     "metadata": {},
     "output_type": "execute_result"
    }
   ],
   "source": [
    "seed = 101\n",
    "torch.manual_seed(seed)"
   ]
  },
  {
   "cell_type": "code",
   "execution_count": 45,
   "id": "66248b70",
   "metadata": {},
   "outputs": [],
   "source": [
    "font = {\n",
    "    'family' : 'serif',\n",
    "#     'weight' : 'bold',\n",
    "    'size'   : 24\n",
    "}\n",
    "# matplotlib.rc('font', **{'family': 'serif', 'serif': ['Computer Modern']})\n",
    "\n",
    "matplotlib.rc('text', usetex=True)\n",
    "matplotlib.rcParams['text.usetex'] = True\n",
    "plt.rc('font', **font)\n",
    "plt.rc('lines', linewidth=3, markersize=10)\n",
    "matplotlib.rcParams['pdf.fonttype'] = 42\n",
    "matplotlib.rcParams['ps.fonttype'] = 42\n"
   ]
  },
  {
   "cell_type": "code",
   "execution_count": 46,
   "id": "6c44530c",
   "metadata": {},
   "outputs": [],
   "source": [
    "rep = 1\n",
    "n_ps = 100\n",
    "d = 5\n",
    "m = torch.zeros(d)\n",
    "df = 6\n",
    "target = samp.IsotropicMultivariateStudentT(df, mean=m)\n",
    "\n",
    "kimq  = kernel.KIMQ(b=-0.5)\n",
    "loc = None\n",
    "klin = kernel.KLinear(scale=1, loc=loc, bias=1)\n",
    "ksum_imq = kernel.KSTSumKernel([klin, kimq])\n",
    "q = 1\n",
    "w_ = kernel.MultiquadraticWeight(p=(q-2)/2+1, bias=1, loc=loc, scale=1./df**0.5)\n",
    "kw_ = kernel.KSTWeight(w_func=w_)\n",
    "k_lin_grwth = kernel.KSTProduct(ksum_imq, kw_)\n",
    "\n",
    "w_ = kernel.MultiquadraticWeight(p=(2+1+0.1)/2, bias=1, loc=loc, scale=1./df**0.5)\n",
    "kw_ = kernel.KSTWeight(w_func=w_)\n",
    "k_quad_grwth = kernel.KSTProduct(ksum_imq, kw_)\n",
    "\n",
    "\n",
    "kernels = {\n",
    "    'IMQ': kimq, \n",
    "    'IMQ-sum-lin': k_lin_grwth,\n",
    "    # 'IMQ-sum-quad': k_quad_grwth,\n",
    "}"
   ]
  },
  {
   "cell_type": "code",
   "execution_count": 47,
   "id": "ffd50234",
   "metadata": {},
   "outputs": [],
   "source": [
    "dir_path = (join(results_path, problem))\n",
    "if not os.path.exists(dir_path):\n",
    "    os.makedirs(dir_path)\n",
    "rerun = True\n",
    "vstat = True"
   ]
  },
  {
   "cell_type": "code",
   "execution_count": 48,
   "id": "4b20c148",
   "metadata": {},
   "outputs": [],
   "source": [
    "sample_sizes = torch.logspace(0., 3.3, n_ps)\n",
    "data = np.empty([len(kernels), rep, n_ps])\n",
    "losses = {\n",
    "    k: loss.KSD(v, target.score) \n",
    "    for k, v in kernels.items()\n",
    "}\n",
    "sampler = target\n",
    "for l_i, (key, l) in enumerate(losses.items()):\n",
    "    filename = (\n",
    "        '{}.npy'.format(key) if not vstat else\n",
    "        '{}_vstat.npy'.format(key)\n",
    "    )\n",
    "    path = os.path.join(dir_path, filename)\n",
    "    if os.path.exists(path) and not rerun:\n",
    "        tmp = np.load(path)\n",
    "        data[l_i] = tmp\n",
    "    else:\n",
    "        for j, n in enumerate(sample_sizes):\n",
    "            for i in range(rep):\n",
    "                with util.TorchSeedContext(seed):\n",
    "                    X = sampler.sample(int(n.item()))\n",
    "                data[l_i, i, j] = l.loss(X, vstat=vstat,).detach().numpy()\n",
    "        result = data[l_i]\n",
    "        np.save(path, result)               "
   ]
  },
  {
   "cell_type": "code",
   "execution_count": 49,
   "id": "fffbeda4",
   "metadata": {},
   "outputs": [],
   "source": [
    "Format = namedtuple('Format', ['color', 'linestyle', 'marker'])\n",
    "label_format_tuples = {\n",
    "    'IMQ': (\"IMQ \", Format('C1', '-', '*')),\n",
    "    'IMQ-sum-lin': ('IMQ sum (lin.) $\\\\theta=0.1$', Format('C3', '--', 'o')),\n",
    "#     'IMQ-sum-quad': ('IMQ sum (quad.) $\\\\theta=0.1$', Format('C5', '-.', 'v')),\n",
    "}\n",
    "ps = sample_sizes.detach().numpy()"
   ]
  },
  {
   "cell_type": "code",
   "execution_count": 50,
   "id": "f2011812",
   "metadata": {},
   "outputs": [
    {
     "data": {
      "image/png": "[encoded data removed]",
      "text/plain": [
       "<Figure size 432x288 with 1 Axes>"
      ]
     },
     "metadata": {
      "needs_background": "light"
     },
     "output_type": "display_data"
    }
   ],
   "source": [
    "from matplotlib.ticker import LogLocator\n",
    "fig = plt.figure()\n",
    "ax = fig.add_subplot(111)\n",
    "ax.set_yscale('log')\n",
    "\n",
    "\n",
    "label = ax.set_xlabel('Sequence index $n$', fontsize = 24)\n",
    "label = ax.set_ylabel('$\\\\mathrm{KSD}_{K, P}(P_n)^2$', fontsize = 24)   \n",
    "# label.set_rotation(0)\n",
    "# ax.xaxis.set_label_coords(0.5, -0.15)\n",
    "# ax.yaxis.set_label_coords(-0.1, 1.05)   \n",
    "ax.xaxis.set_label_coords(0.5, -0.15)\n",
    "ax.yaxis.set_label_coords(-0.2, 0.5)  \n",
    "ax.set_yticks([1e+0, 1e+1, 1e+2])\n",
    "\n",
    "ps = sample_sizes.detach().numpy()\n",
    "for ki, key in enumerate(losses.keys()):\n",
    "    label = label_format_tuples[key][0]\n",
    "    fmt = label_format_tuples[key][1]\n",
    "    y = data[ki].mean(axis=0)\n",
    "#     y = data[ki][0]\n",
    "    ax.plot(ps, y, label=label, \n",
    "        color=fmt.color, linestyle=fmt.linestyle)\n",
    "\n",
    "#     error_low = (y - np.percentile(data[ki], q=5, axis=0))\n",
    "#     error_high = np.percentile(data[ki], q=95, axis=0)-y\n",
    "#     errors = np.vstack([error_low, error_high])\n",
    "#     ax.errorbar(ps, y, yerr=errors,\n",
    "#             color=fmt.color, label=label, linestyle=fmt.linestyle)\n",
    "#     ax.violinplot(data[ki], ps, showmeans=True, showextrema=False, widths=1.5)\n",
    "\n",
    "# ax.legend(bbox_to_anchor=(1.75,1.), ncol=4)\n",
    "# plt.legend(bbox_to_anchor=(1.75,1.), ncol=2)\n",
    "ax.set_yscale('log')\n",
    "ax.set_xscale('log')\n",
    "\n",
    "#ax.yaxis.set_minor_locator(LogLocator(numticks=10))\n",
    " \n",
    "plt.savefig('ksd_studentt_ontarget_df{}.pdf'.format(df), bbox_inches='tight')\n",
    "# plt.savefig('ksd_comparison_mean_shift_vstat.pdf', bbox_inches='tight')\n",
    "# plt.savefig('ksd_comparison_mean_shift_legend_col2.pdf', bbox_inches='tight')\n",
    "# plt.savefig('ksd_comparison_mean_shift_legend.pdf', bbox_inches='tight')"
   ]
  },
  {
   "cell_type": "code",
   "execution_count": null,
   "id": "45005dcb",
   "metadata": {},
   "outputs": [],
   "source": []
  },
  {
   "cell_type": "code",
   "execution_count": null,
   "id": "1e2e30f2",
   "metadata": {},
   "outputs": [],
   "source": []
  },
  {
   "cell_type": "code",
   "execution_count": null,
   "id": "1e8c9938",
   "metadata": {},
   "outputs": [],
   "source": []
  },
  {
   "cell_type": "code",
   "execution_count": null,
   "id": "9d9fe1f1",
   "metadata": {},
   "outputs": [],
   "source": []
  },
  {
   "cell_type": "code",
   "execution_count": null,
   "id": "9969945a",
   "metadata": {},
   "outputs": [],
   "source": []
  }
 ],
 "metadata": {
  "kernelspec": {
   "display_name": "Python 3",
   "language": "python",
   "name": "python3"
  },
  "language_info": {
   "codemirror_mode": {
    "name": "ipython",
    "version": 3
   },
   "file_extension": ".py",
   "mimetype": "text/x-python",
   "name": "python",
   "nbconvert_exporter": "python",
   "pygments_lexer": "ipython3",
   "version": "3.6.13"
  }
 },
 "nbformat": 4,
 "nbformat_minor": 5
}
