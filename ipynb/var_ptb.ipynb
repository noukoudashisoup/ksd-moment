{
 "cells": [
  {
   "cell_type": "markdown",
   "id": "58bddfc4",
   "metadata": {},
   "source": [
    "## Experiment for variance non-convergence problem with Gaussian target"
   ]
  },
  {
   "cell_type": "code",
   "execution_count": 72,
   "id": "c30662de",
   "metadata": {},
   "outputs": [
    {
     "name": "stdout",
     "output_type": "stream",
     "text": [
      "The autoreload extension is already loaded. To reload it, use:\n",
      "  %reload_ext autoreload\n"
     ]
    }
   ],
   "source": [
    "%load_ext autoreload\n",
    "%autoreload 2\n",
    "%matplotlib inline"
   ]
  },
  {
   "cell_type": "code",
   "execution_count": 73,
   "id": "f44bda3e",
   "metadata": {},
   "outputs": [],
   "source": [
    "import torch\n",
    "import math\n",
    "import torch.distributions as dists\n",
    "from scem import loss, util, kernel, net, stein, cpdkernel\n",
    "import matplotlib\n",
    "import matplotlib.pyplot as plt\n",
    "import numpy as np\n",
    "import os\n",
    "from os.path import dirname, join\n",
    "import ksdmom.sampler as samp\n",
    "from collections import namedtuple"
   ]
  },
  {
   "cell_type": "code",
   "execution_count": 74,
   "id": "ef75d3be",
   "metadata": {},
   "outputs": [],
   "source": [
    "results_path = './results/varshift'\n",
    "problem = 'Gaussian'"
   ]
  },
  {
   "cell_type": "code",
   "execution_count": 75,
   "id": "4ed847e7",
   "metadata": {},
   "outputs": [],
   "source": [
    "dir_path = (join(results_path, problem))\n",
    "if not os.path.exists(dir_path):\n",
    "    os.makedirs(dir_path)"
   ]
  },
  {
   "cell_type": "code",
   "execution_count": 117,
   "id": "096ea881",
   "metadata": {},
   "outputs": [],
   "source": [
    "seed = 101\n",
    "torch.manual_seed(seed)\n",
    "torch.set_default_tensor_type(torch.DoubleTensor)"
   ]
  },
  {
   "cell_type": "code",
   "execution_count": 118,
   "id": "66248b70",
   "metadata": {},
   "outputs": [],
   "source": [
    "font = {\n",
    "    'family' : 'serif',\n",
    "#     'weight' : 'bold',\n",
    "    'size'   : 24\n",
    "}\n",
    "# matplotlib.rc('font', **{'family': 'serif', 'serif': ['Computer Modern']})\n",
    "\n",
    "matplotlib.rc('text', usetex=True)\n",
    "matplotlib.rcParams['text.usetex'] = True\n",
    "plt.rc('font', **font)\n",
    "plt.rc('lines', linewidth=3, markersize=10)\n",
    "matplotlib.rcParams['pdf.fonttype'] = 42\n",
    "matplotlib.rcParams['ps.fonttype'] = 42\n"
   ]
  },
  {
   "cell_type": "markdown",
   "id": "f9b38629",
   "metadata": {},
   "source": [
    "### Distributions"
   ]
  },
  {
   "cell_type": "code",
   "execution_count": 119,
   "id": "532ced63",
   "metadata": {},
   "outputs": [],
   "source": [
    "class Normal:\n",
    "    def __init__(self, m, s):\n",
    "        self.m = m \n",
    "        self.s = s\n",
    "    \n",
    "    def den(self, X):\n",
    "        m = self.m\n",
    "        s = self.s \n",
    "        \n",
    "        den = torch.exp(-torch.sum((X-m)**2, axis=1)/(2*s**2))\n",
    "        den /= (2*math.pi*s**2)**(d/2)\n",
    "        return den\n",
    "    \n",
    "    def log_den(self, X):\n",
    "        m = self.m\n",
    "        s = self.s\n",
    "        ld = -torch.sum((X-m)**2, axis=1)/(2*s**2)\n",
    "        ld -= d/2 * torch.log(torch.tensor(2*math.pi*s**2))\n",
    "        return ld\n",
    "    \n",
    "    def score(self, X):\n",
    "        m = self.m \n",
    "        s = self.s\n",
    "        return -(X-m) / s**2\n",
    "    \n",
    "    def sample(self, n):\n",
    "        m = self.m\n",
    "        d = len(m)\n",
    "        return m + self.s * torch.randn(n, d)\n",
    "    \n",
    "class MixNormal:\n",
    "    def __init__(self, m1, m2, s1, s2, mweights=None):\n",
    "        self.m1 = m1\n",
    "        self.m2 = m2\n",
    "        self.s1 = s1\n",
    "        self.s2 = s2\n",
    "        self.mweights = (mweights if mweights is not None else \n",
    "                         torch.ones(2)/2.)\n",
    "    \n",
    "    def score(self, X):\n",
    "        m1 = self.m1\n",
    "        m2 = self.m2\n",
    "        s1 = self.s1\n",
    "        s2 = self.s2\n",
    "        d = len(self.m1)\n",
    "        mweights = self.mweights\n",
    "\n",
    "        den1 = torch.exp(-torch.sum((X-m1)**2, axis=1)/(2*s1**2))\n",
    "        den1 /= (2*math.pi*s1**2)**(d/2)\n",
    "        den2 = torch.exp(-torch.sum((X-m2)**2, axis=1)/(2*s2**2))\n",
    "        den2 /= (2*math.pi*s2**2)**(d/2)\n",
    "\n",
    "        score1 = -(X - m1)/(s1**2) \n",
    "        score2 = -(X - m2)/(s2**2) \n",
    "        \n",
    "        post_prob1 = mweights[0] * den1 / (mweights[0]*den1 + mweights[1]*den2)\n",
    "        post_prob1 = post_prob1.unsqueeze(1)\n",
    "        post_prob2 = 1. - post_prob1\n",
    "        sc = post_prob1*score1 + post_prob2*score2\n",
    "        return sc\n",
    "    \n",
    "    def den(self, X):\n",
    "        m1 = self.m1\n",
    "        m2 = self.m2\n",
    "        s1 = self.s1\n",
    "        s2 = self.s2\n",
    "        d = len(self.m1)\n",
    "        w = self.mweights\n",
    "        den1 = torch.exp(-torch.sum((X-m1)**2, axis=1)/(2*s1**2))\n",
    "        den1 /= (2*math.pi*s1**2)**(d/2)\n",
    "        den2 = torch.exp(-torch.sum((X-m2)**2, axis=1)/(2*s2**2))\n",
    "        den2 /= (2*math.pi*s2**2)**(d/2)\n",
    "        return w[0]*den1 + w[1]*den2\n",
    "    \n",
    "    def log_den(self, X):\n",
    "        return torch.log(self.den(X))\n",
    "    \n",
    "    def sample(self, n):\n",
    "        m = torch.distributions.Binomial(n, torch.tensor([self.mweights[0]]))        \n",
    "        n1 = int(m.sample().item())\n",
    "        n2 = n - n1 \n",
    "        d = len(self.m1)\n",
    "        X1 = self.s1*torch.randn(n1, d) + self.m1\n",
    "        X2 = self.s2*torch.randn(n2, d) + self.m2\n",
    "        X = torch.cat([X1, X2])\n",
    "        for _ in range(100):\n",
    "            idx = torch.randperm(n)\n",
    "            X = X[idx]\n",
    "        return X"
   ]
  },
  {
   "cell_type": "code",
   "execution_count": 120,
   "id": "ef6ff6e8",
   "metadata": {},
   "outputs": [],
   "source": [
    "d = 5\n",
    "m = torch.zeros(d)\n",
    "s = 1\n",
    "target = Normal(m, s)"
   ]
  },
  {
   "cell_type": "code",
   "execution_count": 121,
   "id": "6c44530c",
   "metadata": {},
   "outputs": [],
   "source": [
    "kimq  = kernel.KIMQ()\n",
    "loc = None\n",
    "klin = kernel.KLinear(scale=1, loc=loc, bias=1)\n",
    "w = kernel.MultiquadraticWeight(p=-0.5, bias=1, loc=loc)\n",
    "kw = kernel.KSTWeight(w_func=w)\n",
    "ktilted_lin = kernel.KSTProduct(klin, kw)\n",
    "ksum_imq = kernel.KSTSumKernel([ktilted_lin, kimq])\n",
    "\n",
    "\n",
    "w_ = kernel.MultiquadraticWeight(p=(1.)/2, bias=1, loc=loc)\n",
    "kw_ = kernel.KSTWeight(w_func=w_)\n",
    "kx = kernel.KSTProduct(ksum_imq, kw_)\n",
    "\n",
    "\n",
    "kmat = kernel.KMatern(scale=1)\n",
    "kmat_sum = kernel.KSTSumKernel([ktilted_lin, kimq])\n",
    "kmat_sum = kernel.KSTProduct(kmat_sum, kw_)\n",
    "\n",
    "kernels = {\n",
    "'IMQ': kimq, \n",
    "'IMQ-sum-quad': kx,\n",
    "# 'IMQ-sum': ksum_imq,\n",
    "#     'Mat-sum': kmat_sum,\n",
    "}"
   ]
  },
  {
   "cell_type": "markdown",
   "id": "fe25c8e4",
   "metadata": {},
   "source": [
    "### Compute KSD"
   ]
  },
  {
   "cell_type": "code",
   "execution_count": 122,
   "id": "7a7220d4",
   "metadata": {},
   "outputs": [],
   "source": [
    "rerun = True\n",
    "vstat = True\n",
    "rep = 1\n",
    "n_ps = 300"
   ]
  },
  {
   "cell_type": "code",
   "execution_count": 123,
   "id": "79ff8805",
   "metadata": {},
   "outputs": [
    {
     "data": {
      "text/plain": [
       "tensor(1.0000)"
      ]
     },
     "execution_count": 123,
     "metadata": {},
     "output_type": "execute_result"
    }
   ],
   "source": [
    "weight.sum()"
   ]
  },
  {
   "cell_type": "code",
   "execution_count": 124,
   "id": "e8dbc400",
   "metadata": {},
   "outputs": [
    {
     "data": {
      "text/plain": [
       "torch.Size([1001, 5])"
      ]
     },
     "execution_count": 124,
     "metadata": {},
     "output_type": "execute_result"
    }
   ],
   "source": [
    "X.shape"
   ]
  },
  {
   "cell_type": "code",
   "execution_count": 128,
   "id": "4c5dd6b4",
   "metadata": {},
   "outputs": [],
   "source": [
    "ptbs = torch.logspace(0, 3.3, n_ps, device='cpu')\n",
    "data = np.empty([len(kernels), rep, n_ps])\n",
    "losses = {\n",
    "    k: loss.KSD(v, target.score) \n",
    "    for k, v in kernels.items()\n",
    "}\n",
    "sampler = samp.MixSampler(target, Normal(m, s))\n",
    "\n",
    "for l_i, (key, l) in enumerate(losses.items()):\n",
    "    filename = (\n",
    "        '{}.npy'.format(key) if not vstat else\n",
    "        '{}_vstat.npy'.format(key)\n",
    "    )\n",
    "    path = os.path.join(dir_path, filename)\n",
    "    if os.path.exists(path) and not rerun:\n",
    "        tmp = np.load(path)\n",
    "        data[l_i] = tmp[:rep]\n",
    "    else:\n",
    "        for j, p in enumerate(ptbs):\n",
    "            n = int(p.item())\n",
    "#             prob = 1./(p+1)\n",
    "            with util.TorchSeedContext(seed): \n",
    "                X1 = target.sample(n)\n",
    "#             std = s * (1./prob)**0.5\n",
    "            std = (n+1)**0.5\n",
    "            X2 = std * torch.ones([1, d]) #std * torch.randn(n//2, d) \n",
    "#             weight = torch.tensor([1-prob]*(n//2) + [prob]*(n//2))/(n//2)\n",
    "            weight = torch.tensor([1./n * (1-1./(n+1))]*n + [1./(n+1)])\n",
    "            X = torch.vstack([X1, X2])\n",
    "            for i in range(rep):\n",
    "                tmp = l.loss(X, vstat=vstat, weight=weight,ignore_diag=False)\n",
    "                data[l_i, i, j] = tmp.detach().cpu().numpy()\n",
    "        result = data[l_i]\n",
    "        np.save(path, result)  \n",
    "ps = ptbs.detach().numpy()"
   ]
  },
  {
   "cell_type": "code",
   "execution_count": 129,
   "id": "fffbeda4",
   "metadata": {},
   "outputs": [],
   "source": [
    "Format = namedtuple('Format', ['color', 'linestyle'])\n",
    "label_format_tuples = {\n",
    "    'IMQ': (\"IMQ\", Format('C1', '-')),\n",
    "    'IMQ-sum': ('IMQ sum (lin.) ', Format('C2', '--')),\n",
    "    'IMQ-sum-quad-theta': ('IMQ sum (quad.)', Format('C5', '-.')),\n",
    "    'IMQ-sum-quad': ('IMQ sum (quad.) ', Format('C6', ':')),\n",
    "}\n"
   ]
  },
  {
   "cell_type": "code",
   "execution_count": 135,
   "id": "37bfba2e",
   "metadata": {},
   "outputs": [
    {
     "data": {
      "image/png": "[encoded data removed]",
      "text/plain": [
       "<Figure size 432x288 with 1 Axes>"
      ]
     },
     "metadata": {
      "needs_background": "light"
     },
     "output_type": "display_data"
    }
   ],
   "source": [
    "from matplotlib.ticker import LogLocator\n",
    "fig = plt.figure()\n",
    "ax = fig.add_subplot(111)\n",
    "ax.set_yscale('log')\n",
    "\n",
    "\n",
    "label = ax.set_xlabel('Sequence index $n$', fontsize = 24)\n",
    "label = ax.set_ylabel('$\\\\mathrm{KSD}_{K,P}(Q_{n})^2$', fontsize = 24)\n",
    "# label.set_rotation(0)\n",
    "# ax.xaxis.set_label_coords(0.5, -0.15)\n",
    "# ax.yaxis.set_label_coords(-0.1, 1.05)   \n",
    "ax.xaxis.set_label_coords(0.5, -0.15)\n",
    "ax.yaxis.set_label_coords(-0.2, 0.5)  \n",
    "\n",
    "ax.set_yticks([1e+0, 1e+1, 1e+2])\n",
    "\n",
    "ps = ptbs.detach().numpy()\n",
    "for ki, key in enumerate(losses.keys()):\n",
    "    label = label_format_tuples[key][0]\n",
    "    fmt = label_format_tuples[key][1]\n",
    "    y = data[ki].mean(axis=0)\n",
    "    ax.plot(ps, y, label=label, color=fmt.color, linestyle=fmt.linestyle)\n",
    "#     error_low = np.percentile(data[ki], q=5, axis=0)\n",
    "#     error_high = np.percentile(data[ki], q=95, axis=0)\n",
    "#     errors = np.vstack([error_low, error_high])\n",
    "#     ax.errorbar(ps, data[ki].mean(axis=0), yerr=data[ki].std(axis=0),\n",
    "#     ax.errorbar(ps, data[ki].mean(axis=0), yerr=errors, \n",
    "#                 color=fmt.color, label=label, linestyle=fmt.linestyle)\n",
    "#     error_low = (y - np.percentile(data[ki], q=5, axis=0))\n",
    "#     error_high = np.percentile(data[ki], q=95, axis=0)-y\n",
    "#     errors = np.vstack([error_low, error_high])\n",
    "#     ax.errorbar(ps, y, yerr=errors,\n",
    "#             color=fmt.color, label=label, linestyle=fmt.linestyle)\n",
    "#     ax.violinplot(data[ki], ps, showmeans=True, showextrema=False, widths=1)\n",
    "ax.legend(bbox_to_anchor=(1.75, 1.), ncol=4)\n",
    "# plt.legend(bbox_to_anchor=(1.75,1.), ncol=2)\n",
    "\n",
    "ax.set_yscale('log')\n",
    "ax.set_xscale('log')\n",
    "\n",
    "#ax.yaxis.set_minor_locator(LogLocator(numticks=10))\n",
    " \n",
    "# plt.savefig('ksd_comparison_var_shift_vstat.pdf', bbox_inches='tight')\n",
    "plt.savefig('ksd_comparison_var_shift_legend.pdf', bbox_inches='tight')"
   ]
  },
  {
   "cell_type": "markdown",
   "id": "8335a49f",
   "metadata": {},
   "source": [
    "### Varying sample size"
   ]
  },
  {
   "cell_type": "code",
   "execution_count": 50,
   "id": "a5461af0",
   "metadata": {},
   "outputs": [],
   "source": [
    "n_ps_sample = 30\n",
    "sample_sizes = torch.logspace(2, 4, n_ps_sample, device='cpu')\n",
    "sample_sizes = torch.floor(sample_sizes/2)\n",
    "\n",
    "data = np.empty([len(kernels), rep, n_ps_sample])\n",
    "losses = {\n",
    "    k: loss.KSD(v, target.score) \n",
    "    for k, v in kernels.items()\n",
    "}\n",
    "p = 1e+6\n",
    "prob = torch.ones(1) / p \n",
    "std = s * (2./prob)**0.5\n",
    "for l_i, (key, l) in enumerate(losses.items()):\n",
    "    filename = (\n",
    "        '{}._sampinc_npy'.format(key) if not vstat else\n",
    "        '{}_sampinc_vstat.npy'.format(key)\n",
    "    )\n",
    "    path = os.path.join(dir_path, filename)\n",
    "    if os.path.exists(path) and not rerun:\n",
    "        tmp = np.load(path)\n",
    "        data[l_i] = tmp[:rep]\n",
    "    else:\n",
    "        for j, n in enumerate(sample_sizes):\n",
    "            n = int(n.item())\n",
    "            print(n)\n",
    "            X1 = target.sample(n)\n",
    "            X2 = std * torch.randn(n, d) \n",
    "            weight = torch.tensor([1-prob]*(n) + [prob]*(n))/ n\n",
    "            X = torch.vstack([X1, X2])\n",
    "            for i in range(rep):\n",
    "                tmp = l.loss(X, vstat=vstat, weight=weight,ignore_diag=False)\n",
    "                data[l_i, i, j] = tmp.detach().cpu().numpy()\n",
    "            del X1, X2, X\n",
    "        result = data[l_i]\n",
    "        np.save(path, result)               "
   ]
  },
  {
   "cell_type": "code",
   "execution_count": 51,
   "id": "4238030f",
   "metadata": {},
   "outputs": [
    {
     "data": {
      "image/png": "[encoded data removed]",
      "text/plain": [
       "<Figure size 432x288 with 1 Axes>"
      ]
     },
     "metadata": {
      "needs_background": "light"
     },
     "output_type": "display_data"
    }
   ],
   "source": [
    "from matplotlib.ticker import LogLocator\n",
    "fig = plt.figure()\n",
    "ax = fig.add_subplot(111)\n",
    "ax.set_yscale('log')\n",
    "\n",
    "\n",
    "label = ax.set_xlabel('Sample size $N$', fontsize = 24)\n",
    "label = ax.set_ylabel('$\\\\mathrm{KSD}(P, Q_{n, N})^2$', fontsize = 24)\n",
    "label.set_rotation(0)\n",
    "ax.xaxis.set_label_coords(0.5, -0.15)\n",
    "ax.yaxis.set_label_coords(-0.1, 1.05)    \n",
    "\n",
    "ax.set_yticks([1e-1, 1e-2, 1e-3])\n",
    "\n",
    "ps = sample_sizes.detach().numpy()\n",
    "for ki, key in enumerate(losses.keys()):\n",
    "    label = label_format_tuples[key][0]\n",
    "    fmt = label_format_tuples[key][1]\n",
    "    y = data[ki].mean(axis=0)\n",
    "    ax.plot(ps, y, label=label, \n",
    "        color=fmt.color, linestyle=fmt.linestyle)\n",
    "# ax.legend(bbox_to_anchor=(1.75,1.), ncol=4)\n",
    "# plt.legend(bbox_to_anchor=(1.75,1.), ncol=2)\n",
    "ax.set_yscale('log')\n",
    "ax.set_xscale('log')\n",
    "\n",
    "#ax.yaxis.set_minor_locator(LogLocator(numticks=10))\n",
    " \n",
    "plt.savefig('ksd_comparison_var_shift_sampsize_vstat.pdf', bbox_inches='tight')"
   ]
  },
  {
   "cell_type": "code",
   "execution_count": null,
   "id": "cd3c1314-0e9a-4cbf-bc37-aedcd7d6052d",
   "metadata": {},
   "outputs": [],
   "source": []
  },
  {
   "cell_type": "code",
   "execution_count": null,
   "id": "75d6a1d8-78ad-40cf-99d2-f37ed3679bc2",
   "metadata": {},
   "outputs": [],
   "source": []
  }
 ],
 "metadata": {
  "kernelspec": {
   "display_name": "Python 3",
   "language": "python",
   "name": "python3"
  },
  "language_info": {
   "codemirror_mode": {
    "name": "ipython",
    "version": 3
   },
   "file_extension": ".py",
   "mimetype": "text/x-python",
   "name": "python",
   "nbconvert_exporter": "python",
   "pygments_lexer": "ipython3",
   "version": "3.6.13"
  }
 },
 "nbformat": 4,
 "nbformat_minor": 5
}
