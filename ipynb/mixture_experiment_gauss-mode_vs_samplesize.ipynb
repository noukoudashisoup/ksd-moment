{
 "cells": [
  {
   "cell_type": "code",
   "execution_count": 29,
   "id": "3bc12c0a",
   "metadata": {},
   "outputs": [
    {
     "name": "stdout",
     "output_type": "stream",
     "text": [
      "The autoreload extension is already loaded. To reload it, use:\n",
      "  %reload_ext autoreload\n"
     ]
    }
   ],
   "source": [
    "%load_ext autoreload\n",
    "%autoreload 2\n",
    "%matplotlib inline"
   ]
  },
  {
   "cell_type": "code",
   "execution_count": 30,
   "id": "baf291f7",
   "metadata": {},
   "outputs": [],
   "source": [
    "import torch\n",
    "import math\n",
    "import torch.distributions as dists\n",
    "from scem import loss, util, kernel, net, stein, cpdkernel\n",
    "import matplotlib\n",
    "import matplotlib.pyplot as plt\n",
    "import numpy as np\n",
    "import os\n",
    "from os.path import dirname, join\n",
    "import ksdmom.sampler as samp\n",
    "from collections import namedtuple"
   ]
  },
  {
   "cell_type": "code",
   "execution_count": 31,
   "id": "c3ab92ac",
   "metadata": {},
   "outputs": [
    {
     "data": {
      "text/plain": [
       "<torch._C.Generator at 0x7f74b12391e0>"
      ]
     },
     "execution_count": 31,
     "metadata": {},
     "output_type": "execute_result"
    }
   ],
   "source": [
    "torch.manual_seed(101)"
   ]
  },
  {
   "cell_type": "code",
   "execution_count": 32,
   "id": "89e5daba",
   "metadata": {},
   "outputs": [],
   "source": [
    "results_path = '/nfs/gatsbystor/heishiro/ksd-unbounded/results/mixture'\n",
    "problem = 'Gaussian_mode_vs_sample_size'"
   ]
  },
  {
   "cell_type": "code",
   "execution_count": 33,
   "id": "f8c6c3eb",
   "metadata": {},
   "outputs": [],
   "source": [
    "dir_path = (join(results_path, problem))\n",
    "if not os.path.exists(dir_path):\n",
    "    os.makedirs(dir_path)"
   ]
  },
  {
   "cell_type": "code",
   "execution_count": 34,
   "id": "ebedcd12",
   "metadata": {},
   "outputs": [],
   "source": [
    "font = {\n",
    "    'family' : 'serif',\n",
    "#     'weight' : 'bold',\n",
    "    'size'   : 24\n",
    "}\n",
    "# matplotlib.rc('font', **{'family': 'serif', 'serif': ['Computer Modern']})\n",
    "\n",
    "matplotlib.rc('text', usetex=True)\n",
    "matplotlib.rcParams['text.usetex'] = True\n",
    "plt.rc('font', **font)\n",
    "plt.rc('lines', linewidth=3, markersize=10)\n",
    "matplotlib.rcParams['pdf.fonttype'] = 42\n",
    "matplotlib.rcParams['ps.fonttype'] = 42\n"
   ]
  },
  {
   "cell_type": "code",
   "execution_count": 35,
   "id": "6d659dea",
   "metadata": {},
   "outputs": [],
   "source": [
    "class Normal:\n",
    "    def __init__(self, m, s):\n",
    "        self.m = m \n",
    "        self.s = s\n",
    "    \n",
    "    def den(self, X):\n",
    "        m = self.m\n",
    "        s = self.s \n",
    "        \n",
    "        den = torch.exp(-torch.sum((X-m)**2, axis=1)/(2*s**2))\n",
    "        den /= (2*math.pi*s**2)**(d/2)\n",
    "        return den\n",
    "    \n",
    "    def log_den(self, X):\n",
    "        m = self.m\n",
    "        s = self.s\n",
    "        ld = -torch.sum((X-m)**2, axis=1)/(2*s**2)\n",
    "        ld -= d/2 * torch.log(torch.tensor(2*math.pi*s**2))\n",
    "        return ld\n",
    "    \n",
    "    def score(self, X):\n",
    "        m = self.m \n",
    "        s = self.s\n",
    "        return -(X-m) / s**2\n",
    "    \n",
    "    def sample(self, n):\n",
    "        m = self.m\n",
    "        d = len(m)\n",
    "        return m + self.s * torch.randn(n, d)\n",
    "    \n",
    "class MixNormal:\n",
    "    def __init__(self, m1, m2, s1, s2, mweights):\n",
    "        self.m1 = m1\n",
    "        self.m2 = m2\n",
    "        self.s1 = s1\n",
    "        self.s2 = s2\n",
    "        self.n1 = Normal(m1, s1)\n",
    "        self.n2 = Normal(m2, s2)\n",
    "        self.mweights = mweights\n",
    "    \n",
    "    def score(self, X):\n",
    "        m1 = self.m1\n",
    "        m2 = self.m2\n",
    "        s1 = self.s1\n",
    "        s2 = self.s2\n",
    "        d = len(self.m1)\n",
    "        mweights = self.mweights\n",
    "\n",
    "        logden1 = self.n1.log_den(X)\n",
    "        logden2 = self.n2.log_den(X)\n",
    "\n",
    "        score1 = -(X - m1)/(s1**2) \n",
    "        score2 = -(X - m2)/(s2**2) \n",
    "        \n",
    "        post_prob1 = 1. / (1. + (mweights[1]/mweights[0])*torch.exp(logden2-logden1))\n",
    "        post_prob1 = post_prob1.unsqueeze(1)\n",
    "        post_prob2 = 1. - post_prob1\n",
    "        sc = post_prob1*score1 + post_prob2*score2\n",
    "        return sc\n",
    "    \n",
    "    def den(self, X):\n",
    "        m1 = self.m1\n",
    "        m2 = self.m2\n",
    "        s1 = self.s1\n",
    "        s2 = self.s2\n",
    "        d = len(self.m1)\n",
    "        w = self.mweights\n",
    "        den1 = torch.exp(-torch.sum((X-m1)**2, axis=1)/(2*s1**2))\n",
    "        den1 /= (2*math.pi*s1**2)**(d/2)\n",
    "        den2 = torch.exp(-torch.sum((X-m2)**2, axis=1)/(2*s2**2))\n",
    "        den2 /= (2*math.pi*s2**2)**(d/2)\n",
    "        return w[0]*den1 + w[1]*den2\n",
    "    \n",
    "    def log_den(self, X):\n",
    "        return torch.log(self.den(X))\n",
    "    \n",
    "    def sample(self, n):\n",
    "        m = torch.distributions.Binomial(n, torch.tensor([self.mweights[0]]))        \n",
    "        n1 = int(m.sample().item())\n",
    "        n2 = n - n1 \n",
    "        d = len(self.m1)\n",
    "        X1 = self.s1*torch.randn(n1, d) + self.m1\n",
    "        X2 = self.s2*torch.randn(n2, d) + self.m2\n",
    "        X = torch.cat([X1, X2])\n",
    "        for _ in range(1):\n",
    "            idx = torch.randperm(n)\n",
    "            X = X[idx]\n",
    "        return X"
   ]
  },
  {
   "cell_type": "code",
   "execution_count": 53,
   "id": "00d7ac73",
   "metadata": {},
   "outputs": [],
   "source": [
    "d = 5\n",
    "m1 = torch.zeros(d)\n",
    "s = 1."
   ]
  },
  {
   "cell_type": "code",
   "execution_count": 54,
   "id": "21bd030d",
   "metadata": {},
   "outputs": [],
   "source": [
    "kimq  = kernel.KIMQ(b=-0.5)\n",
    "loc = None\n",
    "klin = kernel.KLinear(scale=1, loc=loc, bias=1)\n",
    "w = kernel.MultiquadraticWeight(p=-0.5, bias=1, loc=loc)\n",
    "kw = kernel.KSTWeight(w_func=w)\n",
    "ktilted_lin = kernel.KSTProduct(klin, kw)\n",
    "kimq_sum = kernel.KSTSumKernel([ktilted_lin, kimq])\n",
    "\n",
    "kmat = kernel.KMatern(scale=1)\n",
    "kmat_sum = kernel.KSTSumKernel([ktilted_lin, kmat])\n",
    "\n",
    "kernels = {\n",
    "#     'IMQ': kimq,\n",
    "    'IMQ-sum': kimq_sum, \n",
    "#     'Mat-sum': kmat_sum,\n",
    "}"
   ]
  },
  {
   "cell_type": "code",
   "execution_count": 55,
   "id": "b83f555d",
   "metadata": {},
   "outputs": [],
   "source": [
    "ns = 30\n",
    "sample_sizes = torch.logspace(1, 4, ns, dtype=torch.int64)\n",
    "sample_sizes = torch.cat([sample_sizes, torch.tensor([11000, 12000, 13000, 14000, 15000])])\n",
    "ps = torch.tensor([3., 5.,])\n",
    "n_ps = len(ps)"
   ]
  },
  {
   "cell_type": "code",
   "execution_count": 59,
   "id": "af04e089",
   "metadata": {},
   "outputs": [
    {
     "name": "stdout",
     "output_type": "stream",
     "text": [
      "tensor(10)\n",
      "tensor(12)\n",
      "tensor(16)\n",
      "tensor(20)\n",
      "tensor(25)\n",
      "tensor(32)\n",
      "tensor(41)\n",
      "tensor(52)\n",
      "tensor(67)\n",
      "tensor(85)\n",
      "tensor(108)\n",
      "tensor(137)\n",
      "tensor(174)\n",
      "tensor(221)\n",
      "tensor(280)\n",
      "tensor(356)\n",
      "tensor(452)\n",
      "tensor(573)\n",
      "tensor(727)\n",
      "tensor(923)\n",
      "tensor(1172)\n",
      "tensor(1487)\n",
      "tensor(1887)\n",
      "tensor(2395)\n",
      "tensor(3039)\n",
      "tensor(3856)\n",
      "tensor(4893)\n",
      "tensor(6210)\n",
      "tensor(7880)\n",
      "tensor(10000)\n",
      "tensor(11000)\n",
      "tensor(12000)\n",
      "tensor(13000)\n",
      "tensor(14000)\n",
      "tensor(15000)\n",
      "tensor(10)\n",
      "tensor(12)\n",
      "tensor(16)\n",
      "tensor(20)\n",
      "tensor(25)\n",
      "tensor(32)\n",
      "tensor(41)\n",
      "tensor(52)\n",
      "tensor(67)\n",
      "tensor(85)\n",
      "tensor(108)\n",
      "tensor(137)\n",
      "tensor(174)\n",
      "tensor(221)\n",
      "tensor(280)\n",
      "tensor(356)\n",
      "tensor(452)\n",
      "tensor(573)\n",
      "tensor(727)\n",
      "tensor(923)\n",
      "tensor(1172)\n",
      "tensor(1487)\n",
      "tensor(1887)\n",
      "tensor(2395)\n",
      "tensor(3039)\n",
      "tensor(3856)\n",
      "tensor(4893)\n",
      "tensor(6210)\n",
      "tensor(7880)\n",
      "tensor(10000)\n",
      "tensor(11000)\n",
      "tensor(12000)\n",
      "tensor(13000)\n",
      "tensor(14000)\n",
      "tensor(15000)\n"
     ]
    }
   ],
   "source": [
    "data = np.empty([n_ps, len(sample_sizes), 2])\n",
    "norm_ones = (torch.ones(d) / d**0.5)\n",
    "targets = [MixNormal(m+p*norm_ones, m, s, s, 0.5*(torch.ones(2))) for p in ps]\n",
    "models = [MixNormal(m+p*norm_ones, m, s, s, torch.tensor([0.1, 0.9])) for p in ps]\n",
    "\n",
    "k = kimq\n",
    "losses = {\n",
    "    target: loss.KSD(k, target.score) \n",
    "    for target in targets\n",
    "}\n",
    "weight = None\n",
    "ratio = 0.1\n",
    "for l_i, (key, l) in enumerate(losses.items()):\n",
    "    model = models[l_i]\n",
    "    for i, n in enumerate(sample_sizes):\n",
    "        print(n)\n",
    "        X = model.sample(int(n))\n",
    "        data[l_i, i, 0] = l.loss(X, vstat=True, weight=weight, ignore_diag=False).detach().numpy()\n",
    "        X = key.sample(int(n))\n",
    "        data[l_i, i, 1] = l.loss(X, vstat=True, weight=weight, ignore_diag=False).detach().numpy()"
   ]
  },
  {
   "cell_type": "code",
   "execution_count": 60,
   "id": "39a5248b",
   "metadata": {},
   "outputs": [
    {
     "data": {
      "image/png": "[encoded data removed]",
      "text/plain": [
       "<Figure size 864x432 with 2 Axes>"
      ]
     },
     "metadata": {
      "needs_background": "light"
     },
     "output_type": "display_data"
    }
   ],
   "source": [
    "fig, axes = plt.subplots(nrows=1, ncols=n_ps, sharey=True,\n",
    "                         figsize=(6*n_ps, 6))\n",
    "\n",
    "for pi, p in enumerate(ps):\n",
    "    ax = axes if len(ps) == 1 else axes[pi]\n",
    "    ax.set_yscale('log')\n",
    "    ax.set_xscale('log')\n",
    "    ax.title.set_text('$\\\\|\\\\mu_1 - \\\\mu_2 \\\\|_2$ = {}'.format(int(p)))\n",
    "\n",
    "    label = ax.set_xlabel('Sample size $N$', fontsize = 24)\n",
    "    if pi == 0:\n",
    "        label = ax.set_ylabel('$\\\\mathrm{KSD}$', fontsize = 24)\n",
    "        label.set_rotation(0)\n",
    "        ax.xaxis.set_label_coords(0.5, -0.15)\n",
    "        ax.yaxis.set_label_coords(-0.1, 1.05)    \n",
    "    ax.plot(sample_sizes, data[pi, :, 0], label='$Q_{\\\\pi, N}$', \n",
    "            color='C2', linestyle='--')\n",
    "    ax.plot(sample_sizes, data[pi, :, 1], label='$P_N$', \n",
    "            color='C10', linestyle='-.')\n",
    "ax.legend(bbox_to_anchor=(1.75,1.), ncol=1)\n",
    "# plt.legend(bbox_to_anchor=(3.75,1.), ncol=4)\n",
    "# ax.set_yscale('log')\n",
    "#ax.yaxis.set_minor_locator(LogLocator(numticks=10))\n",
    "\n",
    "plt.savefig('ksd_gauss_mixture_IMQlin_sample_size.pdf', bbox_inches='tight')"
   ]
  },
  {
   "cell_type": "code",
   "execution_count": null,
   "id": "b12b6bdd",
   "metadata": {},
   "outputs": [],
   "source": []
  }
 ],
 "metadata": {
  "kernelspec": {
   "display_name": "Python 3",
   "language": "python",
   "name": "python3"
  },
  "language_info": {
   "codemirror_mode": {
    "name": "ipython",
    "version": 3
   },
   "file_extension": ".py",
   "mimetype": "text/x-python",
   "name": "python",
   "nbconvert_exporter": "python",
   "pygments_lexer": "ipython3",
   "version": "3.6.13"
  }
 },
 "nbformat": 4,
 "nbformat_minor": 5
}
